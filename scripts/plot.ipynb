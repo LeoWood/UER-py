{
 "metadata": {
  "language_info": {
   "codemirror_mode": {
    "name": "ipython",
    "version": 3
   },
   "file_extension": ".py",
   "mimetype": "text/x-python",
   "name": "python",
   "nbconvert_exporter": "python",
   "pygments_lexer": "ipython3",
   "version": "3.8.5-final"
  },
  "orig_nbformat": 2,
  "kernelspec": {
   "name": "python3",
   "display_name": "Python 3",
   "language": "python"
  }
 },
 "nbformat": 4,
 "nbformat_minor": 2,
 "cells": [
  {
   "cell_type": "code",
   "execution_count": 5,
   "metadata": {},
   "outputs": [],
   "source": [
    "import pandas as pd\n",
    "import pyecharts.options as opts\n",
    "from pyecharts.charts import Line"
   ]
  },
  {
   "cell_type": "code",
   "execution_count": 22,
   "metadata": {},
   "outputs": [],
   "source": [
    "df_1 = pd.read_csv('/Users/leo/Work/项目工作/NSTL预训练/参数实验/学习率/pubmed_bert_from_base_200gpus_lr_1e-5.csv')[:1900]\n",
    "df_2 = pd.read_csv('/Users/leo/Work/项目工作/NSTL预训练/参数实验/学习率/pubmed_bert_from_base_200gpus_lr_2e-5.csv')[:1900]\n",
    "df_3 = pd.read_csv('/Users/leo/Work/项目工作/NSTL预训练/参数实验/学习率/pubmed_bert_from_base_200gpus_lr_3e-5.csv')[:1900]"
   ]
  },
  {
   "cell_type": "code",
   "execution_count": 24,
   "metadata": {},
   "outputs": [
    {
     "output_type": "execute_result",
     "data": {
      "text/plain": [
       "'/Users/leo/Projects/UER-py/scripts/render.html'"
      ]
     },
     "metadata": {},
     "execution_count": 24
    }
   ],
   "source": [
    "line = (\n",
    "    Line()\n",
    "    .add_xaxis(df_1['steps'].to_list())\n",
    "    .add_yaxis(\"1e-5\",df_1['acc_mlm'].to_list(),is_smooth=True)\n",
    "    .add_yaxis(\"2e-5\",df_2['acc_mlm'].to_list(),is_smooth=True)\n",
    "    .add_yaxis(\"3e-5\",df_3['acc_mlm'].to_list(),is_smooth=True)\n",
    "    .set_global_opts(title_opts=opts.TitleOpts(title=\"三种学习率下的准确率曲线\"))\n",
    "    .set_series_opts(label_opts=opts.LabelOpts(is_show=False))\n",
    ")\n",
    "# line.render_notebook()\n",
    "line.render()"
   ]
  },
  {
   "cell_type": "code",
   "execution_count": 8,
   "metadata": {},
   "outputs": [
    {
     "output_type": "execute_result",
     "data": {
      "text/plain": [
       "4184"
      ]
     },
     "metadata": {},
     "execution_count": 8
    }
   ],
   "source": [
    "len(df_2)"
   ]
  },
  {
   "cell_type": "code",
   "execution_count": 10,
   "metadata": {},
   "outputs": [
    {
     "output_type": "execute_result",
     "data": {
      "text/plain": [
       "1920"
      ]
     },
     "metadata": {},
     "execution_count": 10
    }
   ],
   "source": [
    "len(df_3)"
   ]
  },
  {
   "cell_type": "code",
   "execution_count": null,
   "metadata": {},
   "outputs": [],
   "source": []
  }
 ]
}